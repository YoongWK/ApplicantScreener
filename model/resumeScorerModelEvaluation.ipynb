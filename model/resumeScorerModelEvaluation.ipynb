{
 "cells": [
  {
   "cell_type": "markdown",
   "metadata": {},
   "source": [
    "# Trained Resume Scorer Model Evaluation"
   ]
  },
  {
   "cell_type": "markdown",
   "metadata": {},
   "source": [
    "### Import the libraries"
   ]
  },
  {
   "cell_type": "code",
   "execution_count": 1,
   "metadata": {},
   "outputs": [],
   "source": [
    "# Import the required libraries\n",
    "import re\n",
    "import numpy as np\n",
    "from numpy.linalg import norm\n",
    "from gensim.models.doc2vec import Doc2Vec"
   ]
  },
  {
   "cell_type": "markdown",
   "metadata": {},
   "source": [
    "### Initialise the testing data"
   ]
  },
  {
   "cell_type": "code",
   "execution_count": 2,
   "metadata": {},
   "outputs": [],
   "source": [
    "# Job Description\n",
    "jd = \"\"\"\n",
    "JOB DESCRIPTION:\n",
    "Our client, a fast growing medical device organization is currently seeking an Embedded Software Engineer to join their R&D team. Reporting to the Lead Engineer, this position plays a pivotal role in the end-to-end software development lifecycle of products and solutions our client offers.\n",
    "\n",
    "KEY RESPONSIBILITIES:\n",
    "Engage actively in hands-on software development using embedded C/C++, demonstrating proficiency in configuring and leveraging various peripherals and interfaces. Investigate and resolve issues through rigorous debugging, employing tools such as Oscilloscope and logic analyzers. Adept at comprehending and applying documentation and reference manuals for chipsets, you will contribute to the generation of innovative solutions, taking calculated risks when addressing technical challenges.\n",
    "Demonstrate meticulous attention to detail by producing high-quality technical documentation that effectively captures and communicates design concepts. Utilize established tools and best practices to report and track product and process metrics, challenging project teams and work processes to proactively seek creative methods for optimal performance levels. Communicate developments or issues impacting work and commitments to others in a timely and proactive manner, fostering a collaborative and proactive work environment.\n",
    "From analyzing and interpreting system-level requirements to translating them into detailed software requirements specifications, design and implement application solutions for embedded control systems. Develop and execute comprehensive test plans, documenting designs and creating Failure Mode and Effect Analysis (FMEA) documentation. Collaborate seamlessly with internal and external stakeholders, contributing to the development, enhancement, and maintenance of web portals and products that leverage cutting-edge web technology and applications. Perform assigned duties with a proactive and solution-oriented approach.\n",
    "\n",
    "REQUIREMENTS:\n",
    "- Minimum Bachelors' in Mechatronics, Robotics, Computer/Electronics Engineering, Computer Science, or equivalent, with at least 5 years of experience.\n",
    "- Proven expertise in full software development life cycle, emphasizing significant technical contributions.\n",
    "- Proficient in embedded programming (C, C++), with strong knowledge of microcontroller architecture and peripherals/interfaces (UART, SPI, I2C, GPIO, ADC).\n",
    "- Understanding of object-oriented/functional development, concurrency, and data structures.\n",
    "- Demonstrated ability to create and execute development test cases for software verification and validation.\n",
    "- Advantageous knowledge of network/cybersecurity concepts, experience with Medical Devices and FDA Regulations.\n",
    "- In-depth experience in embedded OS environments: Linux or FreeRTOS,\n",
    "- Proficient in digital control, analog circuits, sensor interfaces, embedded systems/control, and network interfaces; able to collaborate with hardware engineers.\n",
    "- Strong communication, documentation, and presentation skills.\n",
    "- Effective teamwork and leadership, with a proactive attitude, empowering team members for enhanced output.\n",
    "\"\"\""
   ]
  },
  {
   "cell_type": "code",
   "execution_count": 3,
   "metadata": {},
   "outputs": [],
   "source": [
    "# Resume 1 (Poor-fit)\n",
    "resume1 = \"\"\"\n",
    "Joshua Lim\n",
    "Email: joshualim@outlook.com\n",
    "\n",
    "\n",
    "EDUCATION\n",
    "Aug 2021 - May 2023\n",
    "National University of Singapore\n",
    "Master of Science in Safety, Health, and Environmental Technology\n",
    "- Cumulative Average Point (CAP): 4.14\n",
    "- Relevant modules taken include: Human Factors in Process Safety, Occupational Ergonomics, SHEQ Management Systems, Noise and other Physical Hazards, Resilience and Emergency Planning, Project Engineering, Fundamentals in Process Safety, Fundamentals in Industrial Hygiene\n",
    "\n",
    "Feb 2019 - Feb 2021\n",
    "Melbourne University, Australia\n",
    "Master of Engineering Management/Master of Business Administration\n",
    "- Grade Point Average (GPA): 5.82\n",
    "- Relevant modules taken include: Risk and Resilience Engineering, Project Management, Strategy and Case Analysis, Strategic Asset Management, Management Communication, Managing Information Systems\n",
    "\n",
    "Aug 2013 - Apr 2018\n",
    "Universiti Teknologi Malaysia\n",
    "- Bachelor of Electrical Engineering with Honours\n",
    "- Relevant modules taken include: Principles of Management, Environmental Science and Engineering, Total Quality Management\n",
    "\n",
    "\n",
    "EXPERIENCE\n",
    "Feb 2023 - Jul 2023\n",
    "Environment, Health and Safety (EHS) Intern\n",
    "Safety Resources Pte Ltd., Singapore\n",
    "- Conducted a site visit and identified workplace safety risks relevant to work at height, slip, trip and fall and flammable hazards.\n",
    "- Liaised with site operations staff, project managers and clients with regards to documentation and risk assessment preparation for bizSAFEcertification.\n",
    "- Advised project managers in accident reporting and investigations as well as toolbox meetings and all safety matters execution.\n",
    "- Updated risk assessments in preparation for maintenance audits of ISO 45001 for clients.\n",
    "- Developed Environmental Aspect Impact (EAI) register for client as part of the document preparation for ISO 14001 certification audit.\n",
    "- Devised a business continuity plan, comprising of Business Impact Analysis (BIA) and a business recovery procedure in the event of adisruptive event.\n",
    "\n",
    "Jul 2022 - Sep 2022\n",
    "Safety, Health & Environment (SHE) Intern\n",
    "- Collaborated with line managers and managers to coordinate the group SHE audit process and observed the performance evaluation ofvarious SHE-based aspects, including competence assurance, emergency preparedness and response, permit to work etc. within theplant.\n",
    "- Prepared and verified minutes reports as the meeting secretary in SHE committee meetings to ensure the accountability of the actions tobe taken.\n",
    "- Developed an onsite traffic safety management plan based on WSHC guidelines and company regulations to adopt a quick referencecentral document for both employees and top management.\n",
    "- Gathered relevant SHE data encompassing non-conformities, process risk review, MOC, process safety etc. from line managers andmanagers for Sustainability Performance Indicators (SPI) reporting.\n",
    "- Designed visual aids for TV notice and the plant's visitor management system to ensure 100% registration of all employees, contractorsand visitors in the event of an emergency evacuation.\n",
    "\n",
    "Nov 2019 - Jul 2022\n",
    "Graduate Student Researcher\n",
    "Melbourne University, Australia\n",
    "- Investigated the impacts of proactive work culture on asset maintenance processes with the objective of developing a training program forapproximately 10 maintenance workers at a specialist valve manufacturing firm to improve safety outcomes.\n",
    "- Liaised with 2 industrial experts and a maintenance manager to assist in formulating a plan for asset maintenance at a specialist valvemanufacturing firm with the requirement to reduce maintenance costs by 5%.\n",
    "- Conducted a site visit and identified workplace safety risks relevant to vehicle controls, air quality and maintenance work.\n",
    "- Conducted an evidence-based case study investigation on the ways the application of Resilience Engineering (RE) practice at theDreamworld Theme Park, Australia, could enhance safety, presenting the recommendations to improve on 3 crucial RE indicators.\n",
    "- Conducted a systematic literature review on 844 articles as a principal author in collaboration with 2 industrial experts cum professors.\n",
    "- Identified the study gaps to address the influence of cultural factors on the way maintenance is performed for an enhanced safety outcome,thereby proposing RE as a solution.\n",
    "\n",
    "Mar 2020 - Jun 2020\n",
    "Casual Academic\n",
    "Melbourne University, Australia\n",
    "- Delivered academic support and collaborated with the unit assessor in developing course content for a cohort of 150+ undergraduatestudents of Bachelor of Biomedical Science degree.\n",
    "- Mentored about 5 international students with language and cultural barriers to revamp academic commitment and performance.\n",
    "- Conveyed constructive comments through assignment marking for 70+ students.\n",
    "- Liaised with senior lecturers and the unit assessor to organize and ensure seamless conversion of face to face lecture content and deliveryto distance learning for 150+ students.\n",
    "\n",
    "May 2017 - Apr 2018\n",
    "Undergraduate Researcher\n",
    "Universiti Teknologi Malaysia\n",
    "- Collaborated with 3 other students to develop and test a prototype of a smart headlamp for heavy vehicles operating in mountainousterrains and hairpin bends.\n",
    "- Presented the prototype's functioning to a panel of 4 professors cum engineers to achieve an 80-89% project rating.\n",
    "- Spearheaded a team of 4 other students on the development of an automated power theft detection device to accurately identify thepresence of power theft and execute automated power shutdown without human intervention.\n",
    "\n",
    "\n",
    "VOLUNTEER EXPERIENCE\n",
    "May 2019 - Sep 2020\n",
    "Student Representative - Postgraduate\n",
    "Melbourne University, Australia\n",
    "- Advocated the voices and grievances of 200+ postgraduate students from the Faculty of Science and Engineering in the university'sacademic board.\n",
    "- Advised the chair and fellow members of a working party on addressing the challenges regarding the admission of international students.\n",
    "- Influenced strategic decisions and changes such as the development of a student competency assessment program, enhanced mentorschemes, and revamping of orientation courses to overcome competency issues with newly admitted international students, resulting in asignificant reduction of student failure rate.\n",
    "\n",
    "Jul 2019 - Mar 2020\n",
    "Student Volunteer Leader\n",
    "Orientation and Induction Team, Melbourne University\n",
    "- Volunteered to facilitate new students with FAQs and provided guidance to the right university support service.\n",
    "- Engaged with the orientation and induction team on the recruitment of new student volunteers and briefing of the orientation processes.\n",
    "- Motivated 50+ new students through orientation speech on the importance of overcoming cultural barriers and making full utilisation of thestudent services at the university.\n",
    "- Educated 5 new student volunteers with formalities regarding induction training and clarified any relevant queries with the work, health andsafety induction program.\n",
    "\n",
    "\n",
    "CERTIFICATIONS\n",
    "- Certified as QEHS Integrated Management System Internal Auditor (ISO 9001:2015, ISO 14001:2015 and ISO45001:2018) by TUV SUD.\n",
    "- Certified to develop a Risk Management Implementation Plan (bizSAFE 2) by Workforce Singapore.\n",
    "- Awarded the certificate of competence in Safety, Health and Environmental Practices by NUS.\n",
    "\n",
    "\n",
    "ADDITIONAL INFORMATION\n",
    "- Fluent in English, Chinese, and Malay (both spoken and written)\n",
    "- Technical: Proficient in Microsoft Office Suite\n",
    "\"\"\""
   ]
  },
  {
   "cell_type": "code",
   "execution_count": 4,
   "metadata": {},
   "outputs": [],
   "source": [
    "# Resume 2 (Ok-fit)\n",
    "resume2 = \"\"\"\n",
    "Yoong Wai Kit\n",
    "Mobile: (+65) 9756 0654\n",
    "Email: yoongwaikit@outlook.com\n",
    "LinkedIn Profile: https://www.linkedin.com/in/yoongwaikit/\n",
    "\n",
    "OBJECTIVE\n",
    "I am a conscientious and self-motivated learner who is eager to gain industry experience in developing and maintaining embedded systems and electronic devices.\n",
    "I can contribute ideas and insights from the skills and knowledge I have acquired in my course modules and WorldSkills Electronics training.\n",
    "\n",
    "\n",
    "EDUCATION\n",
    "Apr 2021 - Apr 2024\n",
    "[Graduating in April 2024]\n",
    "Diploma in Computer Engineering, Temasek Polytechnic\n",
    "- Completed modules with distinctions in Microcontroller Applications, Object-oriented Programming, Computer Programming for Problem Solving, Electronic Prototyping, and Data Visualisation and Analytics\n",
    "- Current GPA: 4.00/4.00\n",
    "\n",
    "Jan 2017 - Dec 2020\n",
    "GCE 'O' Level Certificate, St. Gabriel's Secondary School\n",
    "- Achieved distinctions in Mathematics, Additional Mathematics, Physics, Biology, Humanities, and Chinese\n",
    "\n",
    "\n",
    "SKILLS\n",
    "TECHNICAL SKILLS\n",
    "- Experienced in developing embedded systems on the STM32 NUCLEO-L053R8 and Arduino UNO R3 microcontroller development boards\n",
    "- Skilled in creating Java Graphical User Interfaces\n",
    "- Adept at designing analogue and digital electronic circuits according to given specifications\n",
    "- Proficient in designing PCBs on the Autodesk EAGLE software\n",
    "- Competent in assembling PCBs using the industry standard lead-free solder\n",
    "- Knowledgeable in troubleshooting and rectifying faults on PCBs\n",
    "- Skilful in analysing and visualising data using Tableau and KNIME\n",
    "\n",
    "GENERIC SKILLS\n",
    "- Cooperate and work well within a team in academic and professional settings\n",
    "- Takes initiative to ensure success in the implementation and completion of projects\n",
    "- Determined and meticulous worker who believes in putting in the best effort for every task\n",
    "- Flexible and adaptable in adjusting to new working needs and environment\n",
    "- Proficient in using the Microsoft Office Suite (PowerPoint, Word, Excel)\n",
    "- Fluent in written and spoken English and Chinese\n",
    "\n",
    "\n",
    "WORK EXPERIENCE\n",
    "Jan 2021 - Apr 2021\n",
    "STMicroelectronics Asia Pacific Pte Ltd\n",
    "Warehouse Assistant:\n",
    "- Demonstrated effective team communication and cooperation with other warehouse staff to successfully prepare over 2,000 cartons of semiconductor products for daily transportation\n",
    "\n",
    "Nov 2020 - Dec 2020\n",
    "J&T Express Pte Ltd\n",
    "Warehouse Assistant:\n",
    "- Displayed flexibility and adaptability by working effectively on various tasks assigned by supervisors, such as loading, unloading, picking, packing, sorting, and scanning e-commerce parcels\n",
    "\n",
    "Nov 2019\n",
    "ST Engineering Electronics Ltd\n",
    "One-Day Job Shadowing Experience:\n",
    "- Acquired in-depth insights on the roles and responsibilities of Web Developers, AR/VR Developers, and Graphics Designers\n",
    "\n",
    "\n",
    "ACHIEVEMENTS\n",
    "2022\n",
    "Awards For Excellence - Director's List Award\n",
    "- Awarded for being among the top 10% in terms of academic performance\n",
    "\n",
    "2022\n",
    "Electronic Design Competition\n",
    "- Awarded Bronze Medal for designing all the electronic circuits to given specifications\n",
    "\n",
    "2022\n",
    "Temasek Polytechnic Scholarship (Engineering)\n",
    "- Awarded for outstanding academic results, CCA achievements, and leadership qualities\n",
    "\n",
    "\n",
    "CO-CURRICULAR ACTIVITIES\n",
    "2022 - Present\n",
    "Engineering Peer Mentors\n",
    "Vice-president for competitions and events (2022 - 2023):\n",
    "- Reinforced leadership and organisation skills by:\n",
    "  - Coordinating the Electronic Design Competition for Year 1.2 engineering students to assess their knowledge of electronic circuit design\n",
    "  - Planning a game booth for the Campus Care Network Day to raise funds for students in need of financial assistance\n",
    "  - Overseeing the ENGenius Awards Ceremony for graduating students who have completed the ENGenius Awards Programme\n",
    "\n",
    "2021 - Present\n",
    "Temasek Polytechnic ENGenius Awards Programme\n",
    "Experiential Research Programme at TP-HRG Robotics Innovation Centre:\n",
    "- Acquired technical skills in:\n",
    "  - Hardware assembly by mounting and connecting the hardware of a ROBOTIS TurtleBot3 Waffle Pi\n",
    "  - Software set-up by configuring the TurtleBot's Raspberry Pi 3B+ and OpenCR1.0 boards for teleoperation, Simultaneous Localization & Mapping (SLAM), and navigation\n",
    "  - Robot simulation of the TurtleBot using GAZEBO and RVIZ simulators\n",
    "- Exhibited initiative and keenness to learn by conducting independent research on:\n",
    "  - Calibrating the Raspberry Pi Camera Module V2.1 for vision on the TurtleBot\n",
    "  - Setting-up voice command for teleoperation on the TurtleBot\n",
    "\n",
    "\n",
    "VOLUNTEERING EXPERIENCE\n",
    "Nov 2022\n",
    "Hao Ren Hao Shi (HRHS) Care Pack Distribution\n",
    "Volunteer:\n",
    "- Packed milk and egg for distribution to 50 needy families\n",
    "- Interacted with families during their collection of the care packs\n",
    "\n",
    "\n",
    "REFERENCES\n",
    "Mr. Low Kian Mong, Senior Lecturer, Temasek Polytechnic\n",
    "Tel: (+65) 6780 5505\n",
    "Email: low_kian_mong@tp.edu.sg\n",
    "\n",
    "Mr. Kong Kean Fong, Senior Lecturer, Temasek Polytechnic\n",
    "Tel: (+65) 6780 4178\n",
    "Email: kong_kean_fong@tp.edu.sg\n",
    "\"\"\""
   ]
  },
  {
   "cell_type": "code",
   "execution_count": 5,
   "metadata": {},
   "outputs": [],
   "source": [
    "# Resume 3 (Excellent-fit)\n",
    "resume3 = \"\"\"\n",
    "John Doe\n",
    "123 Main Street, Anytown, USA\n",
    "(555) 555-1234\n",
    "johndoe@email.com\n",
    "LinkedIn Profile: linkedin.com/in/johndoe\n",
    "\n",
    "\n",
    "Objective:\n",
    "Dedicated and skilled Embedded Software Engineer with over 8 years of experience in the full software development life cycle, specializing in embedded programming, microcontroller architecture, and software verification. Seeking a challenging role with a fast-growing medical device organization to contribute technical expertise and innovation to the R&D team.\n",
    "\n",
    "\n",
    "Professional Experience:\n",
    "Embedded Software Engineer | MedTech Innovations, Anytown, USA | January 2020 - Present\n",
    "- Engage actively in hands-on software development using embedded C/C++, configuring and leveraging various peripherals and interfaces for medical devices.\n",
    "- Investigate and resolve issues through rigorous debugging, employing tools such as Oscilloscope and logic analyzers.\n",
    "- Contribute to the generation of innovative solutions, demonstrating proficiency in chipsets documentation and reference manuals.\n",
    "- Produce high-quality technical documentation to effectively capture and communicate design concepts.\n",
    "\n",
    "Senior Embedded Software Developer | TechSolutions Inc., Somewhere City, USA | June 2015 - December 2019\n",
    "- Translated system-level requirements into detailed software requirements specifications, designing and implementing application solutions for embedded control systems.\n",
    "- Developed and executed comprehensive test plans, documented designs, and created Failure Mode and Effect Analysis (FMEA) documentation.\n",
    "- Collaborated seamlessly with internal and external stakeholders, contributing to the development, enhancement, and maintenance of web portals and products.\n",
    "\n",
    "\n",
    "Education:\n",
    "Bachelor of Science in Computer Engineering | University of Technology, Anytown, USA | May 2015\n",
    "\n",
    "\n",
    "Skills:\n",
    "- Programming Languages: C, C++\n",
    "- Microcontroller Architecture: Strong knowledge of UART, SPI, I2C, GPIO, ADC\n",
    "- Software Development Life Cycle: Proven expertise\n",
    "- Object-oriented/functional development, concurrency, and data structures: Understanding\n",
    "- Software Verification and Validation: Demonstrated ability to create and execute development test cases\n",
    "- Operating Systems: Linux, FreeRTOS\n",
    "- Digital control, analog circuits, sensor interfaces, embedded systems/control, network interfaces\n",
    "- Knowledge of network/cybersecurity concepts, experience with Medical Devices and FDA Regulations\n",
    "\n",
    "\n",
    "Certifications:\n",
    "Certified Embedded Systems Developer (CESD)\n",
    "\n",
    "\n",
    "Professional Memberships:\n",
    "Member, Institute of Electrical and Electronics Engineers (IEEE)\n",
    "\n",
    "\n",
    "References:\n",
    "Available upon request.\n",
    "\"\"\""
   ]
  },
  {
   "cell_type": "markdown",
   "metadata": {},
   "source": [
    "### Preprocess the testing data"
   ]
  },
  {
   "cell_type": "code",
   "execution_count": 6,
   "metadata": {},
   "outputs": [],
   "source": [
    "# Function to preprocess text\n",
    "def preprocess_text(text):\n",
    "    # Keep only letters in the text\n",
    "    text = re.sub('[^a-z A-Z]', ' ', text)\n",
    "    \n",
    "    # Remove extra space in the text\n",
    "    text = re.sub(r'\\s+', ' ', text)\n",
    "\n",
    "    # Convert the text to lowercase\n",
    "    text = text.lower()\n",
    "    \n",
    "    # Return the text\n",
    "    return text"
   ]
  },
  {
   "cell_type": "code",
   "execution_count": 7,
   "metadata": {},
   "outputs": [],
   "source": [
    "# Apply text preprocessing to job description and resumes\n",
    "jd = preprocess_text(jd)\n",
    "resume1 = preprocess_text(resume1)\n",
    "resume2 = preprocess_text(resume2)\n",
    "resume3 = preprocess_text(resume3)"
   ]
  },
  {
   "cell_type": "markdown",
   "metadata": {},
   "source": [
    "### Load the model"
   ]
  },
  {
   "cell_type": "code",
   "execution_count": 8,
   "metadata": {},
   "outputs": [],
   "source": [
    "# Load the trained Doc2Vec resume scorer model\n",
    "model = Doc2Vec.load(\"resumeScorer.model\")"
   ]
  },
  {
   "cell_type": "markdown",
   "metadata": {},
   "source": [
    "### Infer the document vectors"
   ]
  },
  {
   "cell_type": "code",
   "execution_count": 9,
   "metadata": {},
   "outputs": [],
   "source": [
    "# Infer document vector for job description\n",
    "v_jd = model.infer_vector(jd.split())\n",
    "\n",
    "# Infer document vector for resume 1\n",
    "v_resume1 = model.infer_vector(resume1.split())\n",
    "\n",
    "# Infer document vector for resume 2\n",
    "v_resume2 = model.infer_vector(resume2.split())\n",
    "\n",
    "# Infer document vector for resume 3\n",
    "v_resume3 = model.infer_vector(resume3.split())"
   ]
  },
  {
   "cell_type": "markdown",
   "metadata": {},
   "source": [
    "### Score the resumes"
   ]
  },
  {
   "cell_type": "code",
   "execution_count": 10,
   "metadata": {},
   "outputs": [
    {
     "name": "stdout",
     "output_type": "stream",
     "text": [
      "Resume 1 (Poor-fit) Score: 45\n"
     ]
    }
   ],
   "source": [
    "# Score resume 1 (Poor-fit)\n",
    "similarity1 = 100*(np.dot(np.array(v_resume1), np.array(v_jd))) / (norm(np.array(v_resume1)) * norm(np.array(v_jd)))\n",
    "print(f\"Resume 1 (Poor-fit) Score: {similarity1:.0f}\")"
   ]
  },
  {
   "cell_type": "code",
   "execution_count": 11,
   "metadata": {},
   "outputs": [
    {
     "name": "stdout",
     "output_type": "stream",
     "text": [
      "Resume 2 (Ok-fit) Score: 61\n"
     ]
    }
   ],
   "source": [
    "# Score resume 2 (Ok-fit)\n",
    "similarity2 = 100*(np.dot(np.array(v_resume2), np.array(v_jd))) / (norm(np.array(v_resume2)) * norm(np.array(v_jd)))\n",
    "print(f\"Resume 2 (Ok-fit) Score: {similarity2:.0f}\")"
   ]
  },
  {
   "cell_type": "code",
   "execution_count": 12,
   "metadata": {},
   "outputs": [
    {
     "name": "stdout",
     "output_type": "stream",
     "text": [
      "Resume 3 (Excellent-fit) Score: 93\n"
     ]
    }
   ],
   "source": [
    "# Score resume 3 (Excellent-fit)\n",
    "similarity3 = 100*(np.dot(np.array(v_resume3), np.array(v_jd))) / (norm(np.array(v_resume3)) * norm(np.array(v_jd)))\n",
    "print(f\"Resume 3 (Excellent-fit) Score: {similarity3:.0f}\")"
   ]
  }
 ],
 "metadata": {
  "kernelspec": {
   "display_name": "venv",
   "language": "python",
   "name": "python3"
  },
  "language_info": {
   "codemirror_mode": {
    "name": "ipython",
    "version": 3
   },
   "file_extension": ".py",
   "mimetype": "text/x-python",
   "name": "python",
   "nbconvert_exporter": "python",
   "pygments_lexer": "ipython3",
   "version": "3.11.4"
  }
 },
 "nbformat": 4,
 "nbformat_minor": 2
}
